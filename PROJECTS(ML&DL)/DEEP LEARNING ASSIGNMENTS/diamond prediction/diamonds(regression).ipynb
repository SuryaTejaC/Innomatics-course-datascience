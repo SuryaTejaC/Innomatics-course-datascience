{
 "cells": [
  {
   "cell_type": "code",
   "execution_count": 1,
   "id": "mental-eight",
   "metadata": {},
   "outputs": [],
   "source": [
    "import pandas as pd\n",
    "import numpy as np"
   ]
  },
  {
   "cell_type": "code",
   "execution_count": 2,
   "id": "entitled-joseph",
   "metadata": {},
   "outputs": [],
   "source": [
    "df=pd.read_csv('C:\\\\Users\\\\chint\\\\Desktop\\\\DATA SCIENCE FILES\\\\DEEP LEARNING ASSIGNMENTS\\\\diamond prediction\\\\diamonds.csv')"
   ]
  },
  {
   "cell_type": "code",
   "execution_count": 3,
   "id": "civilian-butler",
   "metadata": {},
   "outputs": [
    {
     "data": {
      "text/html": [
       "<div>\n",
       "<style scoped>\n",
       "    .dataframe tbody tr th:only-of-type {\n",
       "        vertical-align: middle;\n",
       "    }\n",
       "\n",
       "    .dataframe tbody tr th {\n",
       "        vertical-align: top;\n",
       "    }\n",
       "\n",
       "    .dataframe thead th {\n",
       "        text-align: right;\n",
       "    }\n",
       "</style>\n",
       "<table border=\"1\" class=\"dataframe\">\n",
       "  <thead>\n",
       "    <tr style=\"text-align: right;\">\n",
       "      <th></th>\n",
       "      <th>Unnamed: 0</th>\n",
       "      <th>carat</th>\n",
       "      <th>cut</th>\n",
       "      <th>color</th>\n",
       "      <th>clarity</th>\n",
       "      <th>depth</th>\n",
       "      <th>table</th>\n",
       "      <th>price</th>\n",
       "      <th>x</th>\n",
       "      <th>y</th>\n",
       "      <th>z</th>\n",
       "    </tr>\n",
       "  </thead>\n",
       "  <tbody>\n",
       "    <tr>\n",
       "      <th>0</th>\n",
       "      <td>1</td>\n",
       "      <td>0.23</td>\n",
       "      <td>Ideal</td>\n",
       "      <td>E</td>\n",
       "      <td>SI2</td>\n",
       "      <td>61.5</td>\n",
       "      <td>55.0</td>\n",
       "      <td>326</td>\n",
       "      <td>3.95</td>\n",
       "      <td>3.98</td>\n",
       "      <td>2.43</td>\n",
       "    </tr>\n",
       "    <tr>\n",
       "      <th>1</th>\n",
       "      <td>2</td>\n",
       "      <td>0.21</td>\n",
       "      <td>Premium</td>\n",
       "      <td>E</td>\n",
       "      <td>SI1</td>\n",
       "      <td>59.8</td>\n",
       "      <td>61.0</td>\n",
       "      <td>326</td>\n",
       "      <td>3.89</td>\n",
       "      <td>3.84</td>\n",
       "      <td>2.31</td>\n",
       "    </tr>\n",
       "    <tr>\n",
       "      <th>2</th>\n",
       "      <td>3</td>\n",
       "      <td>0.23</td>\n",
       "      <td>Good</td>\n",
       "      <td>E</td>\n",
       "      <td>VS1</td>\n",
       "      <td>56.9</td>\n",
       "      <td>65.0</td>\n",
       "      <td>327</td>\n",
       "      <td>4.05</td>\n",
       "      <td>4.07</td>\n",
       "      <td>2.31</td>\n",
       "    </tr>\n",
       "    <tr>\n",
       "      <th>3</th>\n",
       "      <td>4</td>\n",
       "      <td>0.29</td>\n",
       "      <td>Premium</td>\n",
       "      <td>I</td>\n",
       "      <td>VS2</td>\n",
       "      <td>62.4</td>\n",
       "      <td>58.0</td>\n",
       "      <td>334</td>\n",
       "      <td>4.20</td>\n",
       "      <td>4.23</td>\n",
       "      <td>2.63</td>\n",
       "    </tr>\n",
       "    <tr>\n",
       "      <th>4</th>\n",
       "      <td>5</td>\n",
       "      <td>0.31</td>\n",
       "      <td>Good</td>\n",
       "      <td>J</td>\n",
       "      <td>SI2</td>\n",
       "      <td>63.3</td>\n",
       "      <td>58.0</td>\n",
       "      <td>335</td>\n",
       "      <td>4.34</td>\n",
       "      <td>4.35</td>\n",
       "      <td>2.75</td>\n",
       "    </tr>\n",
       "  </tbody>\n",
       "</table>\n",
       "</div>"
      ],
      "text/plain": [
       "   Unnamed: 0  carat      cut color clarity  depth  table  price     x     y  \\\n",
       "0           1   0.23    Ideal     E     SI2   61.5   55.0    326  3.95  3.98   \n",
       "1           2   0.21  Premium     E     SI1   59.8   61.0    326  3.89  3.84   \n",
       "2           3   0.23     Good     E     VS1   56.9   65.0    327  4.05  4.07   \n",
       "3           4   0.29  Premium     I     VS2   62.4   58.0    334  4.20  4.23   \n",
       "4           5   0.31     Good     J     SI2   63.3   58.0    335  4.34  4.35   \n",
       "\n",
       "      z  \n",
       "0  2.43  \n",
       "1  2.31  \n",
       "2  2.31  \n",
       "3  2.63  \n",
       "4  2.75  "
      ]
     },
     "execution_count": 3,
     "metadata": {},
     "output_type": "execute_result"
    }
   ],
   "source": [
    "df.head()"
   ]
  },
  {
   "cell_type": "code",
   "execution_count": 4,
   "id": "respected-regular",
   "metadata": {},
   "outputs": [
    {
     "data": {
      "text/plain": [
       "(53940, 11)"
      ]
     },
     "execution_count": 4,
     "metadata": {},
     "output_type": "execute_result"
    }
   ],
   "source": [
    "df.shape"
   ]
  },
  {
   "cell_type": "code",
   "execution_count": 5,
   "id": "serial-internship",
   "metadata": {},
   "outputs": [
    {
     "name": "stdout",
     "output_type": "stream",
     "text": [
      "<class 'pandas.core.frame.DataFrame'>\n",
      "RangeIndex: 53940 entries, 0 to 53939\n",
      "Data columns (total 11 columns):\n",
      " #   Column      Non-Null Count  Dtype  \n",
      "---  ------      --------------  -----  \n",
      " 0   Unnamed: 0  53940 non-null  int64  \n",
      " 1   carat       53940 non-null  float64\n",
      " 2   cut         53940 non-null  object \n",
      " 3   color       53940 non-null  object \n",
      " 4   clarity     53940 non-null  object \n",
      " 5   depth       53940 non-null  float64\n",
      " 6   table       53940 non-null  float64\n",
      " 7   price       53940 non-null  int64  \n",
      " 8   x           53940 non-null  float64\n",
      " 9   y           53940 non-null  float64\n",
      " 10  z           53940 non-null  float64\n",
      "dtypes: float64(6), int64(2), object(3)\n",
      "memory usage: 4.5+ MB\n"
     ]
    }
   ],
   "source": [
    "df.info()"
   ]
  },
  {
   "cell_type": "code",
   "execution_count": 6,
   "id": "abstract-spouse",
   "metadata": {},
   "outputs": [],
   "source": [
    "df.drop('Unnamed: 0', inplace=True, axis=1)"
   ]
  },
  {
   "cell_type": "code",
   "execution_count": 7,
   "id": "artificial-standing",
   "metadata": {},
   "outputs": [
    {
     "data": {
      "text/plain": [
       "carat      0\n",
       "cut        0\n",
       "color      0\n",
       "clarity    0\n",
       "depth      0\n",
       "table      0\n",
       "price      0\n",
       "x          0\n",
       "y          0\n",
       "z          0\n",
       "dtype: int64"
      ]
     },
     "execution_count": 7,
     "metadata": {},
     "output_type": "execute_result"
    }
   ],
   "source": [
    "df.isnull().sum()"
   ]
  },
  {
   "cell_type": "code",
   "execution_count": 9,
   "id": "emerging-disclosure",
   "metadata": {},
   "outputs": [
    {
     "data": {
      "text/html": [
       "<div>\n",
       "<style scoped>\n",
       "    .dataframe tbody tr th:only-of-type {\n",
       "        vertical-align: middle;\n",
       "    }\n",
       "\n",
       "    .dataframe tbody tr th {\n",
       "        vertical-align: top;\n",
       "    }\n",
       "\n",
       "    .dataframe thead th {\n",
       "        text-align: right;\n",
       "    }\n",
       "</style>\n",
       "<table border=\"1\" class=\"dataframe\">\n",
       "  <thead>\n",
       "    <tr style=\"text-align: right;\">\n",
       "      <th></th>\n",
       "      <th>cut</th>\n",
       "      <th>color</th>\n",
       "      <th>clarity</th>\n",
       "    </tr>\n",
       "  </thead>\n",
       "  <tbody>\n",
       "    <tr>\n",
       "      <th>0</th>\n",
       "      <td>Ideal</td>\n",
       "      <td>E</td>\n",
       "      <td>SI2</td>\n",
       "    </tr>\n",
       "    <tr>\n",
       "      <th>1</th>\n",
       "      <td>Premium</td>\n",
       "      <td>E</td>\n",
       "      <td>SI1</td>\n",
       "    </tr>\n",
       "    <tr>\n",
       "      <th>2</th>\n",
       "      <td>Good</td>\n",
       "      <td>E</td>\n",
       "      <td>VS1</td>\n",
       "    </tr>\n",
       "    <tr>\n",
       "      <th>3</th>\n",
       "      <td>Premium</td>\n",
       "      <td>I</td>\n",
       "      <td>VS2</td>\n",
       "    </tr>\n",
       "    <tr>\n",
       "      <th>4</th>\n",
       "      <td>Good</td>\n",
       "      <td>J</td>\n",
       "      <td>SI2</td>\n",
       "    </tr>\n",
       "  </tbody>\n",
       "</table>\n",
       "</div>"
      ],
      "text/plain": [
       "       cut color clarity\n",
       "0    Ideal     E     SI2\n",
       "1  Premium     E     SI1\n",
       "2     Good     E     VS1\n",
       "3  Premium     I     VS2\n",
       "4     Good     J     SI2"
      ]
     },
     "execution_count": 9,
     "metadata": {},
     "output_type": "execute_result"
    }
   ],
   "source": [
    "categorical = df.select_dtypes(include=['object'])\n",
    "\n",
    "categorical.head()"
   ]
  },
  {
   "cell_type": "code",
   "execution_count": 10,
   "id": "adequate-guidance",
   "metadata": {},
   "outputs": [
    {
     "data": {
      "text/html": [
       "<div>\n",
       "<style scoped>\n",
       "    .dataframe tbody tr th:only-of-type {\n",
       "        vertical-align: middle;\n",
       "    }\n",
       "\n",
       "    .dataframe tbody tr th {\n",
       "        vertical-align: top;\n",
       "    }\n",
       "\n",
       "    .dataframe thead th {\n",
       "        text-align: right;\n",
       "    }\n",
       "</style>\n",
       "<table border=\"1\" class=\"dataframe\">\n",
       "  <thead>\n",
       "    <tr style=\"text-align: right;\">\n",
       "      <th></th>\n",
       "      <th>carat</th>\n",
       "      <th>depth</th>\n",
       "      <th>table</th>\n",
       "      <th>price</th>\n",
       "      <th>x</th>\n",
       "      <th>y</th>\n",
       "      <th>z</th>\n",
       "    </tr>\n",
       "  </thead>\n",
       "  <tbody>\n",
       "    <tr>\n",
       "      <th>0</th>\n",
       "      <td>0.23</td>\n",
       "      <td>61.5</td>\n",
       "      <td>55.0</td>\n",
       "      <td>326</td>\n",
       "      <td>3.95</td>\n",
       "      <td>3.98</td>\n",
       "      <td>2.43</td>\n",
       "    </tr>\n",
       "    <tr>\n",
       "      <th>1</th>\n",
       "      <td>0.21</td>\n",
       "      <td>59.8</td>\n",
       "      <td>61.0</td>\n",
       "      <td>326</td>\n",
       "      <td>3.89</td>\n",
       "      <td>3.84</td>\n",
       "      <td>2.31</td>\n",
       "    </tr>\n",
       "    <tr>\n",
       "      <th>2</th>\n",
       "      <td>0.23</td>\n",
       "      <td>56.9</td>\n",
       "      <td>65.0</td>\n",
       "      <td>327</td>\n",
       "      <td>4.05</td>\n",
       "      <td>4.07</td>\n",
       "      <td>2.31</td>\n",
       "    </tr>\n",
       "    <tr>\n",
       "      <th>3</th>\n",
       "      <td>0.29</td>\n",
       "      <td>62.4</td>\n",
       "      <td>58.0</td>\n",
       "      <td>334</td>\n",
       "      <td>4.20</td>\n",
       "      <td>4.23</td>\n",
       "      <td>2.63</td>\n",
       "    </tr>\n",
       "    <tr>\n",
       "      <th>4</th>\n",
       "      <td>0.31</td>\n",
       "      <td>63.3</td>\n",
       "      <td>58.0</td>\n",
       "      <td>335</td>\n",
       "      <td>4.34</td>\n",
       "      <td>4.35</td>\n",
       "      <td>2.75</td>\n",
       "    </tr>\n",
       "  </tbody>\n",
       "</table>\n",
       "</div>"
      ],
      "text/plain": [
       "   carat  depth  table  price     x     y     z\n",
       "0   0.23   61.5   55.0    326  3.95  3.98  2.43\n",
       "1   0.21   59.8   61.0    326  3.89  3.84  2.31\n",
       "2   0.23   56.9   65.0    327  4.05  4.07  2.31\n",
       "3   0.29   62.4   58.0    334  4.20  4.23  2.63\n",
       "4   0.31   63.3   58.0    335  4.34  4.35  2.75"
      ]
     },
     "execution_count": 10,
     "metadata": {},
     "output_type": "execute_result"
    }
   ],
   "source": [
    "numerical = df.select_dtypes(include=['int64', 'float64'])\n",
    "\n",
    "numerical.head()"
   ]
  },
  {
   "cell_type": "code",
   "execution_count": 11,
   "id": "surprising-reduction",
   "metadata": {},
   "outputs": [
    {
     "data": {
      "text/html": [
       "<div>\n",
       "<style scoped>\n",
       "    .dataframe tbody tr th:only-of-type {\n",
       "        vertical-align: middle;\n",
       "    }\n",
       "\n",
       "    .dataframe tbody tr th {\n",
       "        vertical-align: top;\n",
       "    }\n",
       "\n",
       "    .dataframe thead th {\n",
       "        text-align: right;\n",
       "    }\n",
       "</style>\n",
       "<table border=\"1\" class=\"dataframe\">\n",
       "  <thead>\n",
       "    <tr style=\"text-align: right;\">\n",
       "      <th></th>\n",
       "      <th>carat</th>\n",
       "      <th>depth</th>\n",
       "      <th>table</th>\n",
       "      <th>price</th>\n",
       "      <th>x</th>\n",
       "      <th>y</th>\n",
       "      <th>z</th>\n",
       "    </tr>\n",
       "  </thead>\n",
       "  <tbody>\n",
       "    <tr>\n",
       "      <th>0</th>\n",
       "      <td>-1.198168</td>\n",
       "      <td>-0.174092</td>\n",
       "      <td>-1.099672</td>\n",
       "      <td>-0.904095</td>\n",
       "      <td>-1.587837</td>\n",
       "      <td>-1.536196</td>\n",
       "      <td>-1.571129</td>\n",
       "    </tr>\n",
       "    <tr>\n",
       "      <th>1</th>\n",
       "      <td>-1.240361</td>\n",
       "      <td>-1.360738</td>\n",
       "      <td>1.585529</td>\n",
       "      <td>-0.904095</td>\n",
       "      <td>-1.641325</td>\n",
       "      <td>-1.658774</td>\n",
       "      <td>-1.741175</td>\n",
       "    </tr>\n",
       "    <tr>\n",
       "      <th>2</th>\n",
       "      <td>-1.198168</td>\n",
       "      <td>-3.385019</td>\n",
       "      <td>3.375663</td>\n",
       "      <td>-0.903844</td>\n",
       "      <td>-1.498691</td>\n",
       "      <td>-1.457395</td>\n",
       "      <td>-1.741175</td>\n",
       "    </tr>\n",
       "    <tr>\n",
       "      <th>3</th>\n",
       "      <td>-1.071587</td>\n",
       "      <td>0.454133</td>\n",
       "      <td>0.242928</td>\n",
       "      <td>-0.902090</td>\n",
       "      <td>-1.364971</td>\n",
       "      <td>-1.317305</td>\n",
       "      <td>-1.287720</td>\n",
       "    </tr>\n",
       "    <tr>\n",
       "      <th>4</th>\n",
       "      <td>-1.029394</td>\n",
       "      <td>1.082358</td>\n",
       "      <td>0.242928</td>\n",
       "      <td>-0.901839</td>\n",
       "      <td>-1.240167</td>\n",
       "      <td>-1.212238</td>\n",
       "      <td>-1.117674</td>\n",
       "    </tr>\n",
       "  </tbody>\n",
       "</table>\n",
       "</div>"
      ],
      "text/plain": [
       "      carat     depth     table     price         x         y         z\n",
       "0 -1.198168 -0.174092 -1.099672 -0.904095 -1.587837 -1.536196 -1.571129\n",
       "1 -1.240361 -1.360738  1.585529 -0.904095 -1.641325 -1.658774 -1.741175\n",
       "2 -1.198168 -3.385019  3.375663 -0.903844 -1.498691 -1.457395 -1.741175\n",
       "3 -1.071587  0.454133  0.242928 -0.902090 -1.364971 -1.317305 -1.287720\n",
       "4 -1.029394  1.082358  0.242928 -0.901839 -1.240167 -1.212238 -1.117674"
      ]
     },
     "execution_count": 11,
     "metadata": {},
     "output_type": "execute_result"
    }
   ],
   "source": [
    "from sklearn.preprocessing import StandardScaler\n",
    "\n",
    "scaler = StandardScaler()\n",
    "\n",
    "df_num = pd.DataFrame(scaler.fit_transform(numerical), \n",
    "                      columns = numerical.columns)\n",
    "\n",
    "df_num.head()"
   ]
  },
  {
   "cell_type": "code",
   "execution_count": 12,
   "id": "advanced-worker",
   "metadata": {},
   "outputs": [
    {
     "data": {
      "text/html": [
       "<div>\n",
       "<style scoped>\n",
       "    .dataframe tbody tr th:only-of-type {\n",
       "        vertical-align: middle;\n",
       "    }\n",
       "\n",
       "    .dataframe tbody tr th {\n",
       "        vertical-align: top;\n",
       "    }\n",
       "\n",
       "    .dataframe thead th {\n",
       "        text-align: right;\n",
       "    }\n",
       "</style>\n",
       "<table border=\"1\" class=\"dataframe\">\n",
       "  <thead>\n",
       "    <tr style=\"text-align: right;\">\n",
       "      <th></th>\n",
       "      <th>cut_Good</th>\n",
       "      <th>cut_Ideal</th>\n",
       "      <th>cut_Premium</th>\n",
       "      <th>cut_Very Good</th>\n",
       "      <th>color_E</th>\n",
       "      <th>color_F</th>\n",
       "      <th>color_G</th>\n",
       "      <th>color_H</th>\n",
       "      <th>color_I</th>\n",
       "      <th>color_J</th>\n",
       "      <th>clarity_IF</th>\n",
       "      <th>clarity_SI1</th>\n",
       "      <th>clarity_SI2</th>\n",
       "      <th>clarity_VS1</th>\n",
       "      <th>clarity_VS2</th>\n",
       "      <th>clarity_VVS1</th>\n",
       "      <th>clarity_VVS2</th>\n",
       "    </tr>\n",
       "  </thead>\n",
       "  <tbody>\n",
       "    <tr>\n",
       "      <th>0</th>\n",
       "      <td>0.0</td>\n",
       "      <td>1.0</td>\n",
       "      <td>0.0</td>\n",
       "      <td>0.0</td>\n",
       "      <td>1.0</td>\n",
       "      <td>0.0</td>\n",
       "      <td>0.0</td>\n",
       "      <td>0.0</td>\n",
       "      <td>0.0</td>\n",
       "      <td>0.0</td>\n",
       "      <td>0.0</td>\n",
       "      <td>0.0</td>\n",
       "      <td>1.0</td>\n",
       "      <td>0.0</td>\n",
       "      <td>0.0</td>\n",
       "      <td>0.0</td>\n",
       "      <td>0.0</td>\n",
       "    </tr>\n",
       "    <tr>\n",
       "      <th>1</th>\n",
       "      <td>0.0</td>\n",
       "      <td>0.0</td>\n",
       "      <td>1.0</td>\n",
       "      <td>0.0</td>\n",
       "      <td>1.0</td>\n",
       "      <td>0.0</td>\n",
       "      <td>0.0</td>\n",
       "      <td>0.0</td>\n",
       "      <td>0.0</td>\n",
       "      <td>0.0</td>\n",
       "      <td>0.0</td>\n",
       "      <td>1.0</td>\n",
       "      <td>0.0</td>\n",
       "      <td>0.0</td>\n",
       "      <td>0.0</td>\n",
       "      <td>0.0</td>\n",
       "      <td>0.0</td>\n",
       "    </tr>\n",
       "    <tr>\n",
       "      <th>2</th>\n",
       "      <td>1.0</td>\n",
       "      <td>0.0</td>\n",
       "      <td>0.0</td>\n",
       "      <td>0.0</td>\n",
       "      <td>1.0</td>\n",
       "      <td>0.0</td>\n",
       "      <td>0.0</td>\n",
       "      <td>0.0</td>\n",
       "      <td>0.0</td>\n",
       "      <td>0.0</td>\n",
       "      <td>0.0</td>\n",
       "      <td>0.0</td>\n",
       "      <td>0.0</td>\n",
       "      <td>1.0</td>\n",
       "      <td>0.0</td>\n",
       "      <td>0.0</td>\n",
       "      <td>0.0</td>\n",
       "    </tr>\n",
       "    <tr>\n",
       "      <th>3</th>\n",
       "      <td>0.0</td>\n",
       "      <td>0.0</td>\n",
       "      <td>1.0</td>\n",
       "      <td>0.0</td>\n",
       "      <td>0.0</td>\n",
       "      <td>0.0</td>\n",
       "      <td>0.0</td>\n",
       "      <td>0.0</td>\n",
       "      <td>1.0</td>\n",
       "      <td>0.0</td>\n",
       "      <td>0.0</td>\n",
       "      <td>0.0</td>\n",
       "      <td>0.0</td>\n",
       "      <td>0.0</td>\n",
       "      <td>1.0</td>\n",
       "      <td>0.0</td>\n",
       "      <td>0.0</td>\n",
       "    </tr>\n",
       "    <tr>\n",
       "      <th>4</th>\n",
       "      <td>1.0</td>\n",
       "      <td>0.0</td>\n",
       "      <td>0.0</td>\n",
       "      <td>0.0</td>\n",
       "      <td>0.0</td>\n",
       "      <td>0.0</td>\n",
       "      <td>0.0</td>\n",
       "      <td>0.0</td>\n",
       "      <td>0.0</td>\n",
       "      <td>1.0</td>\n",
       "      <td>0.0</td>\n",
       "      <td>0.0</td>\n",
       "      <td>1.0</td>\n",
       "      <td>0.0</td>\n",
       "      <td>0.0</td>\n",
       "      <td>0.0</td>\n",
       "      <td>0.0</td>\n",
       "    </tr>\n",
       "  </tbody>\n",
       "</table>\n",
       "</div>"
      ],
      "text/plain": [
       "   cut_Good  cut_Ideal  cut_Premium  cut_Very Good  color_E  color_F  color_G  \\\n",
       "0       0.0        1.0          0.0            0.0      1.0      0.0      0.0   \n",
       "1       0.0        0.0          1.0            0.0      1.0      0.0      0.0   \n",
       "2       1.0        0.0          0.0            0.0      1.0      0.0      0.0   \n",
       "3       0.0        0.0          1.0            0.0      0.0      0.0      0.0   \n",
       "4       1.0        0.0          0.0            0.0      0.0      0.0      0.0   \n",
       "\n",
       "   color_H  color_I  color_J  clarity_IF  clarity_SI1  clarity_SI2  \\\n",
       "0      0.0      0.0      0.0         0.0          0.0          1.0   \n",
       "1      0.0      0.0      0.0         0.0          1.0          0.0   \n",
       "2      0.0      0.0      0.0         0.0          0.0          0.0   \n",
       "3      0.0      1.0      0.0         0.0          0.0          0.0   \n",
       "4      0.0      0.0      1.0         0.0          0.0          1.0   \n",
       "\n",
       "   clarity_VS1  clarity_VS2  clarity_VVS1  clarity_VVS2  \n",
       "0          0.0          0.0           0.0           0.0  \n",
       "1          0.0          0.0           0.0           0.0  \n",
       "2          1.0          0.0           0.0           0.0  \n",
       "3          0.0          1.0           0.0           0.0  \n",
       "4          0.0          0.0           0.0           0.0  "
      ]
     },
     "execution_count": 12,
     "metadata": {},
     "output_type": "execute_result"
    }
   ],
   "source": [
    "from sklearn.preprocessing import OneHotEncoder\n",
    "\n",
    "encoder = OneHotEncoder(drop='first', sparse=False)\n",
    "\n",
    "df_cat = pd.DataFrame(encoder.fit_transform(categorical), \n",
    "                      columns=encoder.get_feature_names(categorical.columns))\n",
    "\n",
    "df_cat.head()"
   ]
  },
  {
   "cell_type": "code",
   "execution_count": 13,
   "id": "bridal-stomach",
   "metadata": {},
   "outputs": [
    {
     "data": {
      "text/html": [
       "<div>\n",
       "<style scoped>\n",
       "    .dataframe tbody tr th:only-of-type {\n",
       "        vertical-align: middle;\n",
       "    }\n",
       "\n",
       "    .dataframe tbody tr th {\n",
       "        vertical-align: top;\n",
       "    }\n",
       "\n",
       "    .dataframe thead th {\n",
       "        text-align: right;\n",
       "    }\n",
       "</style>\n",
       "<table border=\"1\" class=\"dataframe\">\n",
       "  <thead>\n",
       "    <tr style=\"text-align: right;\">\n",
       "      <th></th>\n",
       "      <th>carat</th>\n",
       "      <th>depth</th>\n",
       "      <th>table</th>\n",
       "      <th>price</th>\n",
       "      <th>x</th>\n",
       "      <th>y</th>\n",
       "      <th>z</th>\n",
       "      <th>cut_Good</th>\n",
       "      <th>cut_Ideal</th>\n",
       "      <th>cut_Premium</th>\n",
       "      <th>...</th>\n",
       "      <th>color_H</th>\n",
       "      <th>color_I</th>\n",
       "      <th>color_J</th>\n",
       "      <th>clarity_IF</th>\n",
       "      <th>clarity_SI1</th>\n",
       "      <th>clarity_SI2</th>\n",
       "      <th>clarity_VS1</th>\n",
       "      <th>clarity_VS2</th>\n",
       "      <th>clarity_VVS1</th>\n",
       "      <th>clarity_VVS2</th>\n",
       "    </tr>\n",
       "  </thead>\n",
       "  <tbody>\n",
       "    <tr>\n",
       "      <th>0</th>\n",
       "      <td>-1.198168</td>\n",
       "      <td>-0.174092</td>\n",
       "      <td>-1.099672</td>\n",
       "      <td>-0.904095</td>\n",
       "      <td>-1.587837</td>\n",
       "      <td>-1.536196</td>\n",
       "      <td>-1.571129</td>\n",
       "      <td>0.0</td>\n",
       "      <td>1.0</td>\n",
       "      <td>0.0</td>\n",
       "      <td>...</td>\n",
       "      <td>0.0</td>\n",
       "      <td>0.0</td>\n",
       "      <td>0.0</td>\n",
       "      <td>0.0</td>\n",
       "      <td>0.0</td>\n",
       "      <td>1.0</td>\n",
       "      <td>0.0</td>\n",
       "      <td>0.0</td>\n",
       "      <td>0.0</td>\n",
       "      <td>0.0</td>\n",
       "    </tr>\n",
       "    <tr>\n",
       "      <th>1</th>\n",
       "      <td>-1.240361</td>\n",
       "      <td>-1.360738</td>\n",
       "      <td>1.585529</td>\n",
       "      <td>-0.904095</td>\n",
       "      <td>-1.641325</td>\n",
       "      <td>-1.658774</td>\n",
       "      <td>-1.741175</td>\n",
       "      <td>0.0</td>\n",
       "      <td>0.0</td>\n",
       "      <td>1.0</td>\n",
       "      <td>...</td>\n",
       "      <td>0.0</td>\n",
       "      <td>0.0</td>\n",
       "      <td>0.0</td>\n",
       "      <td>0.0</td>\n",
       "      <td>1.0</td>\n",
       "      <td>0.0</td>\n",
       "      <td>0.0</td>\n",
       "      <td>0.0</td>\n",
       "      <td>0.0</td>\n",
       "      <td>0.0</td>\n",
       "    </tr>\n",
       "    <tr>\n",
       "      <th>2</th>\n",
       "      <td>-1.198168</td>\n",
       "      <td>-3.385019</td>\n",
       "      <td>3.375663</td>\n",
       "      <td>-0.903844</td>\n",
       "      <td>-1.498691</td>\n",
       "      <td>-1.457395</td>\n",
       "      <td>-1.741175</td>\n",
       "      <td>1.0</td>\n",
       "      <td>0.0</td>\n",
       "      <td>0.0</td>\n",
       "      <td>...</td>\n",
       "      <td>0.0</td>\n",
       "      <td>0.0</td>\n",
       "      <td>0.0</td>\n",
       "      <td>0.0</td>\n",
       "      <td>0.0</td>\n",
       "      <td>0.0</td>\n",
       "      <td>1.0</td>\n",
       "      <td>0.0</td>\n",
       "      <td>0.0</td>\n",
       "      <td>0.0</td>\n",
       "    </tr>\n",
       "    <tr>\n",
       "      <th>3</th>\n",
       "      <td>-1.071587</td>\n",
       "      <td>0.454133</td>\n",
       "      <td>0.242928</td>\n",
       "      <td>-0.902090</td>\n",
       "      <td>-1.364971</td>\n",
       "      <td>-1.317305</td>\n",
       "      <td>-1.287720</td>\n",
       "      <td>0.0</td>\n",
       "      <td>0.0</td>\n",
       "      <td>1.0</td>\n",
       "      <td>...</td>\n",
       "      <td>0.0</td>\n",
       "      <td>1.0</td>\n",
       "      <td>0.0</td>\n",
       "      <td>0.0</td>\n",
       "      <td>0.0</td>\n",
       "      <td>0.0</td>\n",
       "      <td>0.0</td>\n",
       "      <td>1.0</td>\n",
       "      <td>0.0</td>\n",
       "      <td>0.0</td>\n",
       "    </tr>\n",
       "    <tr>\n",
       "      <th>4</th>\n",
       "      <td>-1.029394</td>\n",
       "      <td>1.082358</td>\n",
       "      <td>0.242928</td>\n",
       "      <td>-0.901839</td>\n",
       "      <td>-1.240167</td>\n",
       "      <td>-1.212238</td>\n",
       "      <td>-1.117674</td>\n",
       "      <td>1.0</td>\n",
       "      <td>0.0</td>\n",
       "      <td>0.0</td>\n",
       "      <td>...</td>\n",
       "      <td>0.0</td>\n",
       "      <td>0.0</td>\n",
       "      <td>1.0</td>\n",
       "      <td>0.0</td>\n",
       "      <td>0.0</td>\n",
       "      <td>1.0</td>\n",
       "      <td>0.0</td>\n",
       "      <td>0.0</td>\n",
       "      <td>0.0</td>\n",
       "      <td>0.0</td>\n",
       "    </tr>\n",
       "  </tbody>\n",
       "</table>\n",
       "<p>5 rows × 24 columns</p>\n",
       "</div>"
      ],
      "text/plain": [
       "      carat     depth     table     price         x         y         z  \\\n",
       "0 -1.198168 -0.174092 -1.099672 -0.904095 -1.587837 -1.536196 -1.571129   \n",
       "1 -1.240361 -1.360738  1.585529 -0.904095 -1.641325 -1.658774 -1.741175   \n",
       "2 -1.198168 -3.385019  3.375663 -0.903844 -1.498691 -1.457395 -1.741175   \n",
       "3 -1.071587  0.454133  0.242928 -0.902090 -1.364971 -1.317305 -1.287720   \n",
       "4 -1.029394  1.082358  0.242928 -0.901839 -1.240167 -1.212238 -1.117674   \n",
       "\n",
       "   cut_Good  cut_Ideal  cut_Premium  ...  color_H  color_I  color_J  \\\n",
       "0       0.0        1.0          0.0  ...      0.0      0.0      0.0   \n",
       "1       0.0        0.0          1.0  ...      0.0      0.0      0.0   \n",
       "2       1.0        0.0          0.0  ...      0.0      0.0      0.0   \n",
       "3       0.0        0.0          1.0  ...      0.0      1.0      0.0   \n",
       "4       1.0        0.0          0.0  ...      0.0      0.0      1.0   \n",
       "\n",
       "   clarity_IF  clarity_SI1  clarity_SI2  clarity_VS1  clarity_VS2  \\\n",
       "0         0.0          0.0          1.0          0.0          0.0   \n",
       "1         0.0          1.0          0.0          0.0          0.0   \n",
       "2         0.0          0.0          0.0          1.0          0.0   \n",
       "3         0.0          0.0          0.0          0.0          1.0   \n",
       "4         0.0          0.0          1.0          0.0          0.0   \n",
       "\n",
       "   clarity_VVS1  clarity_VVS2  \n",
       "0           0.0           0.0  \n",
       "1           0.0           0.0  \n",
       "2           0.0           0.0  \n",
       "3           0.0           0.0  \n",
       "4           0.0           0.0  \n",
       "\n",
       "[5 rows x 24 columns]"
      ]
     },
     "execution_count": 13,
     "metadata": {},
     "output_type": "execute_result"
    }
   ],
   "source": [
    "df_1 = pd.concat([df_num, df_cat], axis=1)\n",
    "\n",
    "df_1.head()"
   ]
  },
  {
   "cell_type": "code",
   "execution_count": 57,
   "id": "under-blues",
   "metadata": {},
   "outputs": [
    {
     "data": {
      "text/plain": [
       "(53940, 24)"
      ]
     },
     "execution_count": 57,
     "metadata": {},
     "output_type": "execute_result"
    }
   ],
   "source": [
    "df_1.shape"
   ]
  },
  {
   "cell_type": "code",
   "execution_count": 14,
   "id": "powered-point",
   "metadata": {},
   "outputs": [],
   "source": [
    "X=df_1\n",
    "y=df_1['price']"
   ]
  },
  {
   "cell_type": "code",
   "execution_count": 15,
   "id": "centered-influence",
   "metadata": {},
   "outputs": [],
   "source": [
    "from sklearn.model_selection import train_test_split\n",
    "X_train, X_test, y_train, y_test = train_test_split(X, \\\n",
    "                                                    y, \\\n",
    "                                                    test_size = 0.25, \\\n",
    "                                                   random_state = 0)"
   ]
  },
  {
   "cell_type": "code",
   "execution_count": 16,
   "id": "atomic-consensus",
   "metadata": {},
   "outputs": [],
   "source": [
    "import tensorflow\n",
    "import warnings\n",
    "warnings.filterwarnings('ignore')\n",
    "from tensorflow.keras.models import Sequential\n",
    "from tensorflow.keras import layers\n",
    "from tensorflow.keras import optimizers,regularizers"
   ]
  },
  {
   "cell_type": "markdown",
   "id": "encouraging-processing",
   "metadata": {},
   "source": [
    "# model1"
   ]
  },
  {
   "cell_type": "code",
   "execution_count": 72,
   "id": "unlikely-occurrence",
   "metadata": {},
   "outputs": [],
   "source": [
    "model=Sequential()\n",
    "model.add(layers.Dense(256,activation='relu',input_dim=X_train.shape[1]))\n",
    "model.add(layers.Dense(1))"
   ]
  },
  {
   "cell_type": "code",
   "execution_count": 73,
   "id": "impressed-target",
   "metadata": {
    "scrolled": false
   },
   "outputs": [
    {
     "name": "stdout",
     "output_type": "stream",
     "text": [
      "Epoch 1/10\n",
      "405/405 [==============================] - 1s 945us/step - loss: 0.0508 - val_loss: 0.0112\n",
      "Epoch 2/10\n",
      "405/405 [==============================] - 0s 609us/step - loss: 0.0079 - val_loss: 0.0062\n",
      "Epoch 3/10\n",
      "405/405 [==============================] - 0s 642us/step - loss: 0.0049 - val_loss: 0.0042\n",
      "Epoch 4/10\n",
      "405/405 [==============================] - 0s 661us/step - loss: 0.0036 - val_loss: 0.0033\n",
      "Epoch 5/10\n",
      "405/405 [==============================] - 0s 726us/step - loss: 0.0029 - val_loss: 0.0027\n",
      "Epoch 6/10\n",
      "405/405 [==============================] - 0s 665us/step - loss: 0.0024 - val_loss: 0.0023\n",
      "Epoch 7/10\n",
      "405/405 [==============================] - 0s 664us/step - loss: 0.0021 - val_loss: 0.0020\n",
      "Epoch 8/10\n",
      "405/405 [==============================] - 0s 728us/step - loss: 0.0018 - val_loss: 0.0018\n",
      "Epoch 9/10\n",
      "405/405 [==============================] - 0s 643us/step - loss: 0.0016 - val_loss: 0.0016\n",
      "Epoch 10/10\n",
      "405/405 [==============================] - 0s 645us/step - loss: 0.0015 - val_loss: 0.0015\n"
     ]
    },
    {
     "data": {
      "text/plain": [
       "<keras.callbacks.History at 0x23343ac9d30>"
      ]
     },
     "execution_count": 73,
     "metadata": {},
     "output_type": "execute_result"
    }
   ],
   "source": [
    "model.compile(loss='mse', optimizer='sgd')\n",
    "model.fit(X_train,y_train,epochs=10,validation_data=(X_test,y_test),batch_size=100)"
   ]
  },
  {
   "cell_type": "code",
   "execution_count": 74,
   "id": "greatest-tiger",
   "metadata": {},
   "outputs": [
    {
     "data": {
      "text/plain": [
       "0.9991154783608268"
      ]
     },
     "execution_count": 74,
     "metadata": {},
     "output_type": "execute_result"
    }
   ],
   "source": [
    "y_pred=model.predict(X_test)\n",
    "from sklearn.metrics import r2_score\n",
    "r2_score(y_test,k)"
   ]
  },
  {
   "cell_type": "markdown",
   "id": "compact-interest",
   "metadata": {},
   "source": [
    "# model2"
   ]
  },
  {
   "cell_type": "code",
   "execution_count": 69,
   "id": "tired-group",
   "metadata": {},
   "outputs": [],
   "source": [
    "model2=Sequential()\n",
    "model2.add(layers.Dense(256,activation='LeakyReLU',input_shape=(24,)))\n",
    "model2.add(layers.Dropout(0.5))\n",
    "model2.add(layers.Dense(128,activation='LeakyReLU'))\n",
    "model2.add(layers.Dropout(0.5))\n",
    "model2.add(layers.Dense(64,activation='LeakyReLU'))\n",
    "model2.add(layers.Dropout(0.5))\n",
    "model2.add(layers.Dense(1))"
   ]
  },
  {
   "cell_type": "code",
   "execution_count": 70,
   "id": "sublime-dayton",
   "metadata": {},
   "outputs": [
    {
     "name": "stdout",
     "output_type": "stream",
     "text": [
      "Epoch 1/10\n",
      "405/405 [==============================] - 1s 2ms/step - loss: 0.1228 - val_loss: 0.0438\n",
      "Epoch 2/10\n",
      "405/405 [==============================] - 1s 2ms/step - loss: 0.0576 - val_loss: 0.0068\n",
      "Epoch 3/10\n",
      "405/405 [==============================] - 1s 2ms/step - loss: 0.0483 - val_loss: 0.0059\n",
      "Epoch 4/10\n",
      "405/405 [==============================] - 1s 2ms/step - loss: 0.0430 - val_loss: 0.0015\n",
      "Epoch 5/10\n",
      "405/405 [==============================] - 1s 2ms/step - loss: 0.0385 - val_loss: 0.0022\n",
      "Epoch 6/10\n",
      "405/405 [==============================] - 1s 2ms/step - loss: 0.0372 - val_loss: 0.0074\n",
      "Epoch 7/10\n",
      "405/405 [==============================] - 1s 2ms/step - loss: 0.0374 - val_loss: 0.0013\n",
      "Epoch 8/10\n",
      "405/405 [==============================] - 1s 2ms/step - loss: 0.0375 - val_loss: 6.6937e-04\n",
      "Epoch 9/10\n",
      "405/405 [==============================] - 1s 2ms/step - loss: 0.0338 - val_loss: 0.0052\n",
      "Epoch 10/10\n",
      "405/405 [==============================] - 1s 2ms/step - loss: 0.0334 - val_loss: 0.0012\n"
     ]
    },
    {
     "data": {
      "text/plain": [
       "<keras.callbacks.History at 0x2334244c5b0>"
      ]
     },
     "execution_count": 70,
     "metadata": {},
     "output_type": "execute_result"
    }
   ],
   "source": [
    "model2.compile(loss='mse', optimizer='adam')\n",
    "model2.fit(X_train,y_train,epochs=10,validation_data=(X_test,y_test),batch_size=100)"
   ]
  },
  {
   "cell_type": "code",
   "execution_count": 71,
   "id": "national-brooklyn",
   "metadata": {},
   "outputs": [
    {
     "data": {
      "text/plain": [
       "0.9991154783608268"
      ]
     },
     "execution_count": 71,
     "metadata": {},
     "output_type": "execute_result"
    }
   ],
   "source": [
    "y_pred=model2.predict(X_test)\n",
    "from sklearn.metrics import r2_score\n",
    "r2_score(y_test,k)"
   ]
  },
  {
   "cell_type": "markdown",
   "id": "casual-central",
   "metadata": {},
   "source": [
    "# model3"
   ]
  },
  {
   "cell_type": "code",
   "execution_count": 66,
   "id": "imperial-sheffield",
   "metadata": {},
   "outputs": [],
   "source": [
    "model3=Sequential()\n",
    "model3.add(layers.Dense(256,activation='elu',input_shape=(24,)))\n",
    "model3.add(layers.Dropout(0.5))\n",
    "model3.add(layers.Dense(155,activation='elu'))\n",
    "model3.add(layers.Dropout(0.5))\n",
    "model3.add(layers.Dense(128,activation='elu'))\n",
    "model3.add(layers.Dropout(0.5))\n",
    "model3.add(layers.Dense(100,activation='elu'))\n",
    "model3.add(layers.Dropout(0.5))\n",
    "model3.add(layers.Dense(64,activation='elu'))\n",
    "model3.add(layers.Dropout(0.5))\n",
    "model3.add(layers.Dense(1,activation='linear'))"
   ]
  },
  {
   "cell_type": "code",
   "execution_count": 67,
   "id": "labeled-consequence",
   "metadata": {
    "scrolled": false
   },
   "outputs": [
    {
     "name": "stdout",
     "output_type": "stream",
     "text": [
      "Epoch 1/10\n",
      "405/405 [==============================] - 2s 3ms/step - loss: 1.2614 - val_loss: 0.1979\n",
      "Epoch 2/10\n",
      "405/405 [==============================] - 1s 3ms/step - loss: 0.8780 - val_loss: 0.1669\n",
      "Epoch 3/10\n",
      "405/405 [==============================] - 1s 3ms/step - loss: 0.7664 - val_loss: 0.1470\n",
      "Epoch 4/10\n",
      "405/405 [==============================] - 1s 3ms/step - loss: 0.6782 - val_loss: 0.1301\n",
      "Epoch 5/10\n",
      "405/405 [==============================] - 1s 3ms/step - loss: 0.6200 - val_loss: 0.1174\n",
      "Epoch 6/10\n",
      "405/405 [==============================] - 1s 3ms/step - loss: 0.5759 - val_loss: 0.1150\n",
      "Epoch 7/10\n",
      "405/405 [==============================] - 1s 3ms/step - loss: 0.5457 - val_loss: 0.1045\n",
      "Epoch 8/10\n",
      "405/405 [==============================] - 2s 4ms/step - loss: 0.5081 - val_loss: 0.0957\n",
      "Epoch 9/10\n",
      "405/405 [==============================] - 1s 3ms/step - loss: 0.4944 - val_loss: 0.0888\n",
      "Epoch 10/10\n",
      "405/405 [==============================] - 1s 3ms/step - loss: 0.4658 - val_loss: 0.0872\n"
     ]
    },
    {
     "data": {
      "text/plain": [
       "<keras.callbacks.History at 0x233402ea730>"
      ]
     },
     "execution_count": 67,
     "metadata": {},
     "output_type": "execute_result"
    }
   ],
   "source": [
    "model3.compile(loss='mse', optimizer='adagrad')\n",
    "model3.fit(X_train,y_train,epochs=10,validation_data=(X_test,y_test),batch_size=100)"
   ]
  },
  {
   "cell_type": "code",
   "execution_count": 68,
   "id": "collectible-customs",
   "metadata": {},
   "outputs": [
    {
     "data": {
      "text/plain": [
       "0.9991154783608268"
      ]
     },
     "execution_count": 68,
     "metadata": {},
     "output_type": "execute_result"
    }
   ],
   "source": [
    "y_pred=model3.predict(X_test)\n",
    "from sklearn.metrics import r2_score\n",
    "r2_score(y_test,k)"
   ]
  },
  {
   "cell_type": "markdown",
   "id": "adaptive-family",
   "metadata": {},
   "source": [
    "# model4"
   ]
  },
  {
   "cell_type": "code",
   "execution_count": 62,
   "id": "oriental-morris",
   "metadata": {},
   "outputs": [],
   "source": [
    "model4=Sequential()\n",
    "model4.add(layers.Dense(256,activation='softplus',input_shape=(24,)))\n",
    "model4.add(layers.Dropout(0.5))\n",
    "model4.add(layers.Dense(155,activation='softplus'))\n",
    "model4.add(layers.Dropout(0.5))\n",
    "model4.add(layers.Dense(128,activation='softplus'))\n",
    "model4.add(layers.Dropout(0.5))\n",
    "model4.add(layers.Dense(100,activation='softplus'))\n",
    "model4.add(layers.Dropout(0.5))\n",
    "model4.add(layers.Dense(64,activation='softplus'))\n",
    "model4.add(layers.Dropout(0.5))\n",
    "model4.add(layers.Dense(32,activation='softplus'))\n",
    "model4.add(layers.Dropout(0.5))\n",
    "model4.add(layers.Dense(16,activation='softplus'))\n",
    "model4.add(layers.Dropout(0.5))\n",
    "model4.add(layers.Dense(1,activation='linear'))"
   ]
  },
  {
   "cell_type": "code",
   "execution_count": 63,
   "id": "willing-paris",
   "metadata": {},
   "outputs": [
    {
     "name": "stdout",
     "output_type": "stream",
     "text": [
      "Epoch 1/10\n",
      "405/405 [==============================] - 2s 4ms/step - loss: 2.8953 - val_loss: 1.0544\n",
      "Epoch 2/10\n",
      "405/405 [==============================] - 2s 4ms/step - loss: 1.8175 - val_loss: 1.0253\n",
      "Epoch 3/10\n",
      "405/405 [==============================] - 1s 4ms/step - loss: 1.5700 - val_loss: 1.0132\n",
      "Epoch 4/10\n",
      "405/405 [==============================] - 2s 4ms/step - loss: 1.4420 - val_loss: 1.0084\n",
      "Epoch 5/10\n",
      "405/405 [==============================] - 2s 4ms/step - loss: 1.3658 - val_loss: 1.0048\n",
      "Epoch 6/10\n",
      "405/405 [==============================] - 2s 4ms/step - loss: 1.3233 - val_loss: 1.0034\n",
      "Epoch 7/10\n",
      "405/405 [==============================] - 2s 4ms/step - loss: 1.2870 - val_loss: 1.0020\n",
      "Epoch 8/10\n",
      "405/405 [==============================] - 2s 4ms/step - loss: 1.2524 - val_loss: 1.0011\n",
      "Epoch 9/10\n",
      "405/405 [==============================] - 2s 4ms/step - loss: 1.2285 - val_loss: 1.0006\n",
      "Epoch 10/10\n",
      "405/405 [==============================] - 2s 4ms/step - loss: 1.2033 - val_loss: 1.0003\n"
     ]
    },
    {
     "data": {
      "text/plain": [
       "<keras.callbacks.History at 0x2333b9a4b80>"
      ]
     },
     "execution_count": 63,
     "metadata": {},
     "output_type": "execute_result"
    }
   ],
   "source": [
    "model4.compile(loss='mse', optimizer='adagrad')\n",
    "model4.fit(X_train,y_train,epochs=10,validation_data=(X_test,y_test),batch_size=100)"
   ]
  },
  {
   "cell_type": "code",
   "execution_count": 64,
   "id": "liable-louisville",
   "metadata": {},
   "outputs": [
    {
     "data": {
      "text/plain": [
       "0.9991154783608268"
      ]
     },
     "execution_count": 64,
     "metadata": {},
     "output_type": "execute_result"
    }
   ],
   "source": [
    "y_pred=model4.predict(X_test)\n",
    "from sklearn.metrics import r2_score\n",
    "r2_score(y_test,k)"
   ]
  },
  {
   "cell_type": "markdown",
   "id": "deluxe-conspiracy",
   "metadata": {},
   "source": [
    "# model5"
   ]
  },
  {
   "cell_type": "code",
   "execution_count": 58,
   "id": "acceptable-shark",
   "metadata": {},
   "outputs": [],
   "source": [
    "model5=Sequential()\n",
    "model5.add(layers.Dense(256,activation='tanh',input_shape=(24,)))\n",
    "model5.add(layers.Dropout(0.5))\n",
    "model5.add(layers.Dense(155,activation='tanh'))\n",
    "model5.add(layers.Dropout(0.5))\n",
    "model5.add(layers.Dense(128,activation='tanh'))\n",
    "model5.add(layers.Dropout(0.5))\n",
    "model5.add(layers.Dense(100,activation='tanh'))\n",
    "model5.add(layers.Dropout(0.5))\n",
    "model5.add(layers.Dense(64,activation='tanh'))\n",
    "model5.add(layers.Dropout(0.5))\n",
    "model5.add(layers.Dense(32,activation='tanh'))\n",
    "model5.add(layers.Dropout(0.5))\n",
    "model5.add(layers.Dense(16,activation='tanh'))\n",
    "model5.add(layers.Dropout(0.5))\n",
    "model5.add(layers.Dense(10,activation='tanh'))\n",
    "model5.add(layers.Dropout(0.5))\n",
    "model5.add(layers.Dense(5,activation='tanh'))\n",
    "model5.add(layers.Dropout(0.5))\n",
    "model5.add(layers.Dense(1,activation='linear'))"
   ]
  },
  {
   "cell_type": "code",
   "execution_count": 60,
   "id": "oriented-housing",
   "metadata": {},
   "outputs": [
    {
     "name": "stdout",
     "output_type": "stream",
     "text": [
      "Epoch 1/10\n",
      "405/405 [==============================] - 2s 4ms/step - loss: 1.6199 - val_loss: 1.1053\n",
      "Epoch 2/10\n",
      "405/405 [==============================] - 2s 5ms/step - loss: 1.6102 - val_loss: 1.0495\n",
      "Epoch 3/10\n",
      "405/405 [==============================] - 2s 5ms/step - loss: 1.6229 - val_loss: 0.9982\n",
      "Epoch 4/10\n",
      "405/405 [==============================] - 3s 6ms/step - loss: 1.6109 - val_loss: 0.9499\n",
      "Epoch 5/10\n",
      "405/405 [==============================] - 2s 5ms/step - loss: 1.5888 - val_loss: 0.9015\n",
      "Epoch 6/10\n",
      "405/405 [==============================] - 2s 5ms/step - loss: 1.5932 - val_loss: 0.8581\n",
      "Epoch 7/10\n",
      "405/405 [==============================] - 2s 6ms/step - loss: 1.5749 - val_loss: 0.8163\n",
      "Epoch 8/10\n",
      "405/405 [==============================] - 2s 4ms/step - loss: 1.5590 - val_loss: 0.7773\n",
      "Epoch 9/10\n",
      "405/405 [==============================] - 2s 4ms/step - loss: 1.5551 - val_loss: 0.7420\n",
      "Epoch 10/10\n",
      "405/405 [==============================] - 2s 4ms/step - loss: 1.5391 - val_loss: 0.7070\n"
     ]
    },
    {
     "data": {
      "text/plain": [
       "<keras.callbacks.History at 0x2333b70c940>"
      ]
     },
     "execution_count": 60,
     "metadata": {},
     "output_type": "execute_result"
    }
   ],
   "source": [
    "model5.compile(loss='mse', optimizer='adadelta')\n",
    "model5.fit(X_train,y_train,epochs=10,validation_data=(X_test,y_test),batch_size=100)"
   ]
  },
  {
   "cell_type": "code",
   "execution_count": 61,
   "id": "composed-flash",
   "metadata": {},
   "outputs": [
    {
     "data": {
      "text/plain": [
       "0.9991154783608268"
      ]
     },
     "execution_count": 61,
     "metadata": {},
     "output_type": "execute_result"
    }
   ],
   "source": [
    "y_pred=model5.predict(X_test)\n",
    "from sklearn.metrics import r2_score\n",
    "r2_score(y_test,k)"
   ]
  },
  {
   "cell_type": "markdown",
   "id": "committed-location",
   "metadata": {},
   "source": [
    "# observation: model3 performs better as the loss is reducing gradually when compared to other models."
   ]
  },
  {
   "cell_type": "code",
   "execution_count": null,
   "id": "bacterial-singles",
   "metadata": {},
   "outputs": [],
   "source": []
  }
 ],
 "metadata": {
  "kernelspec": {
   "display_name": "Python 3",
   "language": "python",
   "name": "python3"
  },
  "language_info": {
   "codemirror_mode": {
    "name": "ipython",
    "version": 3
   },
   "file_extension": ".py",
   "mimetype": "text/x-python",
   "name": "python",
   "nbconvert_exporter": "python",
   "pygments_lexer": "ipython3",
   "version": "3.8.8"
  }
 },
 "nbformat": 4,
 "nbformat_minor": 5
}
