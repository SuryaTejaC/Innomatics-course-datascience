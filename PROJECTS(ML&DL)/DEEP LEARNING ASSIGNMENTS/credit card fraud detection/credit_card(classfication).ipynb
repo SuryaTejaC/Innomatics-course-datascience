{
 "cells": [
  {
   "cell_type": "code",
   "execution_count": 28,
   "id": "experimental-belgium",
   "metadata": {},
   "outputs": [],
   "source": [
    "import pandas as pd\n",
    "import numpy as np"
   ]
  },
  {
   "cell_type": "code",
   "execution_count": 29,
   "id": "consecutive-greene",
   "metadata": {},
   "outputs": [],
   "source": [
    "df=pd.read_csv('C:\\\\Users\\\\chint\\\\Desktop\\\\DATA SCIENCE FILES\\\\DEEP LEARNING ASSIGNMENTS\\\\credit card fraud detection\\\\creditcard.csv')"
   ]
  },
  {
   "cell_type": "code",
   "execution_count": 30,
   "id": "premium-production",
   "metadata": {},
   "outputs": [
    {
     "data": {
      "text/html": [
       "<div>\n",
       "<style scoped>\n",
       "    .dataframe tbody tr th:only-of-type {\n",
       "        vertical-align: middle;\n",
       "    }\n",
       "\n",
       "    .dataframe tbody tr th {\n",
       "        vertical-align: top;\n",
       "    }\n",
       "\n",
       "    .dataframe thead th {\n",
       "        text-align: right;\n",
       "    }\n",
       "</style>\n",
       "<table border=\"1\" class=\"dataframe\">\n",
       "  <thead>\n",
       "    <tr style=\"text-align: right;\">\n",
       "      <th></th>\n",
       "      <th>Time</th>\n",
       "      <th>V1</th>\n",
       "      <th>V2</th>\n",
       "      <th>V3</th>\n",
       "      <th>V4</th>\n",
       "      <th>V5</th>\n",
       "      <th>V6</th>\n",
       "      <th>V7</th>\n",
       "      <th>V8</th>\n",
       "      <th>V9</th>\n",
       "      <th>...</th>\n",
       "      <th>V21</th>\n",
       "      <th>V22</th>\n",
       "      <th>V23</th>\n",
       "      <th>V24</th>\n",
       "      <th>V25</th>\n",
       "      <th>V26</th>\n",
       "      <th>V27</th>\n",
       "      <th>V28</th>\n",
       "      <th>Amount</th>\n",
       "      <th>Class</th>\n",
       "    </tr>\n",
       "  </thead>\n",
       "  <tbody>\n",
       "    <tr>\n",
       "      <th>0</th>\n",
       "      <td>0.0</td>\n",
       "      <td>-1.359807</td>\n",
       "      <td>-0.072781</td>\n",
       "      <td>2.536347</td>\n",
       "      <td>1.378155</td>\n",
       "      <td>-0.338321</td>\n",
       "      <td>0.462388</td>\n",
       "      <td>0.239599</td>\n",
       "      <td>0.098698</td>\n",
       "      <td>0.363787</td>\n",
       "      <td>...</td>\n",
       "      <td>-0.018307</td>\n",
       "      <td>0.277838</td>\n",
       "      <td>-0.110474</td>\n",
       "      <td>0.066928</td>\n",
       "      <td>0.128539</td>\n",
       "      <td>-0.189115</td>\n",
       "      <td>0.133558</td>\n",
       "      <td>-0.021053</td>\n",
       "      <td>149.62</td>\n",
       "      <td>0</td>\n",
       "    </tr>\n",
       "    <tr>\n",
       "      <th>1</th>\n",
       "      <td>0.0</td>\n",
       "      <td>1.191857</td>\n",
       "      <td>0.266151</td>\n",
       "      <td>0.166480</td>\n",
       "      <td>0.448154</td>\n",
       "      <td>0.060018</td>\n",
       "      <td>-0.082361</td>\n",
       "      <td>-0.078803</td>\n",
       "      <td>0.085102</td>\n",
       "      <td>-0.255425</td>\n",
       "      <td>...</td>\n",
       "      <td>-0.225775</td>\n",
       "      <td>-0.638672</td>\n",
       "      <td>0.101288</td>\n",
       "      <td>-0.339846</td>\n",
       "      <td>0.167170</td>\n",
       "      <td>0.125895</td>\n",
       "      <td>-0.008983</td>\n",
       "      <td>0.014724</td>\n",
       "      <td>2.69</td>\n",
       "      <td>0</td>\n",
       "    </tr>\n",
       "    <tr>\n",
       "      <th>2</th>\n",
       "      <td>1.0</td>\n",
       "      <td>-1.358354</td>\n",
       "      <td>-1.340163</td>\n",
       "      <td>1.773209</td>\n",
       "      <td>0.379780</td>\n",
       "      <td>-0.503198</td>\n",
       "      <td>1.800499</td>\n",
       "      <td>0.791461</td>\n",
       "      <td>0.247676</td>\n",
       "      <td>-1.514654</td>\n",
       "      <td>...</td>\n",
       "      <td>0.247998</td>\n",
       "      <td>0.771679</td>\n",
       "      <td>0.909412</td>\n",
       "      <td>-0.689281</td>\n",
       "      <td>-0.327642</td>\n",
       "      <td>-0.139097</td>\n",
       "      <td>-0.055353</td>\n",
       "      <td>-0.059752</td>\n",
       "      <td>378.66</td>\n",
       "      <td>0</td>\n",
       "    </tr>\n",
       "    <tr>\n",
       "      <th>3</th>\n",
       "      <td>1.0</td>\n",
       "      <td>-0.966272</td>\n",
       "      <td>-0.185226</td>\n",
       "      <td>1.792993</td>\n",
       "      <td>-0.863291</td>\n",
       "      <td>-0.010309</td>\n",
       "      <td>1.247203</td>\n",
       "      <td>0.237609</td>\n",
       "      <td>0.377436</td>\n",
       "      <td>-1.387024</td>\n",
       "      <td>...</td>\n",
       "      <td>-0.108300</td>\n",
       "      <td>0.005274</td>\n",
       "      <td>-0.190321</td>\n",
       "      <td>-1.175575</td>\n",
       "      <td>0.647376</td>\n",
       "      <td>-0.221929</td>\n",
       "      <td>0.062723</td>\n",
       "      <td>0.061458</td>\n",
       "      <td>123.50</td>\n",
       "      <td>0</td>\n",
       "    </tr>\n",
       "    <tr>\n",
       "      <th>4</th>\n",
       "      <td>2.0</td>\n",
       "      <td>-1.158233</td>\n",
       "      <td>0.877737</td>\n",
       "      <td>1.548718</td>\n",
       "      <td>0.403034</td>\n",
       "      <td>-0.407193</td>\n",
       "      <td>0.095921</td>\n",
       "      <td>0.592941</td>\n",
       "      <td>-0.270533</td>\n",
       "      <td>0.817739</td>\n",
       "      <td>...</td>\n",
       "      <td>-0.009431</td>\n",
       "      <td>0.798278</td>\n",
       "      <td>-0.137458</td>\n",
       "      <td>0.141267</td>\n",
       "      <td>-0.206010</td>\n",
       "      <td>0.502292</td>\n",
       "      <td>0.219422</td>\n",
       "      <td>0.215153</td>\n",
       "      <td>69.99</td>\n",
       "      <td>0</td>\n",
       "    </tr>\n",
       "  </tbody>\n",
       "</table>\n",
       "<p>5 rows × 31 columns</p>\n",
       "</div>"
      ],
      "text/plain": [
       "   Time        V1        V2        V3        V4        V5        V6        V7  \\\n",
       "0   0.0 -1.359807 -0.072781  2.536347  1.378155 -0.338321  0.462388  0.239599   \n",
       "1   0.0  1.191857  0.266151  0.166480  0.448154  0.060018 -0.082361 -0.078803   \n",
       "2   1.0 -1.358354 -1.340163  1.773209  0.379780 -0.503198  1.800499  0.791461   \n",
       "3   1.0 -0.966272 -0.185226  1.792993 -0.863291 -0.010309  1.247203  0.237609   \n",
       "4   2.0 -1.158233  0.877737  1.548718  0.403034 -0.407193  0.095921  0.592941   \n",
       "\n",
       "         V8        V9  ...       V21       V22       V23       V24       V25  \\\n",
       "0  0.098698  0.363787  ... -0.018307  0.277838 -0.110474  0.066928  0.128539   \n",
       "1  0.085102 -0.255425  ... -0.225775 -0.638672  0.101288 -0.339846  0.167170   \n",
       "2  0.247676 -1.514654  ...  0.247998  0.771679  0.909412 -0.689281 -0.327642   \n",
       "3  0.377436 -1.387024  ... -0.108300  0.005274 -0.190321 -1.175575  0.647376   \n",
       "4 -0.270533  0.817739  ... -0.009431  0.798278 -0.137458  0.141267 -0.206010   \n",
       "\n",
       "        V26       V27       V28  Amount  Class  \n",
       "0 -0.189115  0.133558 -0.021053  149.62      0  \n",
       "1  0.125895 -0.008983  0.014724    2.69      0  \n",
       "2 -0.139097 -0.055353 -0.059752  378.66      0  \n",
       "3 -0.221929  0.062723  0.061458  123.50      0  \n",
       "4  0.502292  0.219422  0.215153   69.99      0  \n",
       "\n",
       "[5 rows x 31 columns]"
      ]
     },
     "execution_count": 30,
     "metadata": {},
     "output_type": "execute_result"
    }
   ],
   "source": [
    "df.head()"
   ]
  },
  {
   "cell_type": "code",
   "execution_count": 31,
   "id": "unlikely-collection",
   "metadata": {},
   "outputs": [
    {
     "data": {
      "text/plain": [
       "(284807, 31)"
      ]
     },
     "execution_count": 31,
     "metadata": {},
     "output_type": "execute_result"
    }
   ],
   "source": [
    "df.shape"
   ]
  },
  {
   "cell_type": "code",
   "execution_count": 32,
   "id": "grave-linux",
   "metadata": {},
   "outputs": [
    {
     "name": "stdout",
     "output_type": "stream",
     "text": [
      "<class 'pandas.core.frame.DataFrame'>\n",
      "RangeIndex: 284807 entries, 0 to 284806\n",
      "Data columns (total 31 columns):\n",
      " #   Column  Non-Null Count   Dtype  \n",
      "---  ------  --------------   -----  \n",
      " 0   Time    284807 non-null  float64\n",
      " 1   V1      284807 non-null  float64\n",
      " 2   V2      284807 non-null  float64\n",
      " 3   V3      284807 non-null  float64\n",
      " 4   V4      284807 non-null  float64\n",
      " 5   V5      284807 non-null  float64\n",
      " 6   V6      284807 non-null  float64\n",
      " 7   V7      284807 non-null  float64\n",
      " 8   V8      284807 non-null  float64\n",
      " 9   V9      284807 non-null  float64\n",
      " 10  V10     284807 non-null  float64\n",
      " 11  V11     284807 non-null  float64\n",
      " 12  V12     284807 non-null  float64\n",
      " 13  V13     284807 non-null  float64\n",
      " 14  V14     284807 non-null  float64\n",
      " 15  V15     284807 non-null  float64\n",
      " 16  V16     284807 non-null  float64\n",
      " 17  V17     284807 non-null  float64\n",
      " 18  V18     284807 non-null  float64\n",
      " 19  V19     284807 non-null  float64\n",
      " 20  V20     284807 non-null  float64\n",
      " 21  V21     284807 non-null  float64\n",
      " 22  V22     284807 non-null  float64\n",
      " 23  V23     284807 non-null  float64\n",
      " 24  V24     284807 non-null  float64\n",
      " 25  V25     284807 non-null  float64\n",
      " 26  V26     284807 non-null  float64\n",
      " 27  V27     284807 non-null  float64\n",
      " 28  V28     284807 non-null  float64\n",
      " 29  Amount  284807 non-null  float64\n",
      " 30  Class   284807 non-null  int64  \n",
      "dtypes: float64(30), int64(1)\n",
      "memory usage: 67.4 MB\n"
     ]
    }
   ],
   "source": [
    "df.info()"
   ]
  },
  {
   "cell_type": "code",
   "execution_count": 33,
   "id": "latter-enforcement",
   "metadata": {},
   "outputs": [
    {
     "data": {
      "text/plain": [
       "Time      0\n",
       "V1        0\n",
       "V2        0\n",
       "V3        0\n",
       "V4        0\n",
       "V5        0\n",
       "V6        0\n",
       "V7        0\n",
       "V8        0\n",
       "V9        0\n",
       "V10       0\n",
       "V11       0\n",
       "V12       0\n",
       "V13       0\n",
       "V14       0\n",
       "V15       0\n",
       "V16       0\n",
       "V17       0\n",
       "V18       0\n",
       "V19       0\n",
       "V20       0\n",
       "V21       0\n",
       "V22       0\n",
       "V23       0\n",
       "V24       0\n",
       "V25       0\n",
       "V26       0\n",
       "V27       0\n",
       "V28       0\n",
       "Amount    0\n",
       "Class     0\n",
       "dtype: int64"
      ]
     },
     "execution_count": 33,
     "metadata": {},
     "output_type": "execute_result"
    }
   ],
   "source": [
    "df.isnull().sum()"
   ]
  },
  {
   "cell_type": "code",
   "execution_count": 34,
   "id": "danish-dealing",
   "metadata": {},
   "outputs": [],
   "source": [
    "X=df\n",
    "y=df['Class']"
   ]
  },
  {
   "cell_type": "code",
   "execution_count": 35,
   "id": "still-valuable",
   "metadata": {},
   "outputs": [],
   "source": [
    "from sklearn.model_selection import train_test_split\n",
    "X_train, X_test, y_train, y_test = train_test_split(X, \\\n",
    "                                                    y, \\\n",
    "                                                    test_size = 0.25, \\\n",
    "                                                   random_state = 0)"
   ]
  },
  {
   "cell_type": "code",
   "execution_count": 36,
   "id": "fabulous-minority",
   "metadata": {},
   "outputs": [],
   "source": [
    "import tensorflow\n",
    "import warnings\n",
    "warnings.filterwarnings('ignore')"
   ]
  },
  {
   "cell_type": "code",
   "execution_count": 37,
   "id": "advanced-hawaiian",
   "metadata": {},
   "outputs": [],
   "source": [
    "from tensorflow.keras.models import Sequential\n",
    "from tensorflow.keras import layers\n",
    "from tensorflow.keras import optimizers,regularizers"
   ]
  },
  {
   "cell_type": "markdown",
   "id": "standing-married",
   "metadata": {},
   "source": [
    "# model1"
   ]
  },
  {
   "cell_type": "code",
   "execution_count": 40,
   "id": "allied-plain",
   "metadata": {},
   "outputs": [],
   "source": [
    "model=Sequential()\n",
    "model.add(layers.Dense(256,activation='relu',input_shape=(31,)))\n",
    "model.add(layers.Dense(1))"
   ]
  },
  {
   "cell_type": "code",
   "execution_count": 41,
   "id": "exotic-cross",
   "metadata": {
    "scrolled": false
   },
   "outputs": [
    {
     "name": "stdout",
     "output_type": "stream",
     "text": [
      "Epoch 1/10\n",
      "2137/2137 [==============================] - 2s 773us/step - loss: 0.0269 - accuracy: 0.9983 - val_loss: 0.0260 - val_accuracy: 0.9983\n",
      "Epoch 2/10\n",
      "2137/2137 [==============================] - 2s 718us/step - loss: 0.0269 - accuracy: 0.9983 - val_loss: 0.0260 - val_accuracy: 0.9983\n",
      "Epoch 3/10\n",
      "2137/2137 [==============================] - 2s 723us/step - loss: 0.0269 - accuracy: 0.9983 - val_loss: 0.0260 - val_accuracy: 0.9983\n",
      "Epoch 4/10\n",
      "2137/2137 [==============================] - 2s 747us/step - loss: 0.0269 - accuracy: 0.9983 - val_loss: 0.0260 - val_accuracy: 0.9983\n",
      "Epoch 5/10\n",
      "2137/2137 [==============================] - 2s 710us/step - loss: 0.0269 - accuracy: 0.9983 - val_loss: 0.0260 - val_accuracy: 0.9983\n",
      "Epoch 6/10\n",
      "2137/2137 [==============================] - 2s 778us/step - loss: 0.0269 - accuracy: 0.9983 - val_loss: 0.0260 - val_accuracy: 0.9983\n",
      "Epoch 7/10\n",
      "2137/2137 [==============================] - 2s 957us/step - loss: 0.0269 - accuracy: 0.9983 - val_loss: 0.0260 - val_accuracy: 0.9983\n",
      "Epoch 8/10\n",
      "2137/2137 [==============================] - 2s 910us/step - loss: 0.0269 - accuracy: 0.9983 - val_loss: 0.0260 - val_accuracy: 0.9983\n",
      "Epoch 9/10\n",
      "2137/2137 [==============================] - 2s 715us/step - loss: 0.0269 - accuracy: 0.9983 - val_loss: 0.0260 - val_accuracy: 0.9983\n",
      "Epoch 10/10\n",
      "2137/2137 [==============================] - 2s 745us/step - loss: 0.0269 - accuracy: 0.9983 - val_loss: 0.0260 - val_accuracy: 0.9983\n"
     ]
    },
    {
     "data": {
      "text/plain": [
       "<keras.callbacks.History at 0x2036808bb80>"
      ]
     },
     "execution_count": 41,
     "metadata": {},
     "output_type": "execute_result"
    }
   ],
   "source": [
    "model.compile(loss='binary_crossentropy', optimizer='sgd', metrics=['accuracy'])\n",
    "model.fit(X_train,y_train,epochs=10,batch_size=100,validation_data=(X_test,y_test),verbose=1)"
   ]
  },
  {
   "cell_type": "code",
   "execution_count": 42,
   "id": "cross-beginning",
   "metadata": {},
   "outputs": [
    {
     "name": "stdout",
     "output_type": "stream",
     "text": [
      "6676/6676 [==============================] - 3s 439us/step - loss: 0.0269 - accuracy: 0.9983\n",
      "[0.02686302363872528, 0.9982584714889526]\n",
      "2226/2226 [==============================] - 1s 407us/step - loss: 0.0260 - accuracy: 0.9983\n",
      "[0.02599634975194931, 0.9983146786689758]\n"
     ]
    }
   ],
   "source": [
    "print(model.evaluate(X_train,y_train))\n",
    "print(model.evaluate(X_test,y_test))"
   ]
  },
  {
   "cell_type": "code",
   "execution_count": 45,
   "id": "eleven-vietnamese",
   "metadata": {},
   "outputs": [],
   "source": [
    "y_pred=model.predict(X_test)"
   ]
  },
  {
   "cell_type": "code",
   "execution_count": 46,
   "id": "balanced-maker",
   "metadata": {
    "scrolled": false
   },
   "outputs": [
    {
     "data": {
      "text/plain": [
       "0.0"
      ]
     },
     "execution_count": 46,
     "metadata": {},
     "output_type": "execute_result"
    }
   ],
   "source": [
    "from sklearn import metrics\n",
    "metrics.accuracy_score(y_test, y_pred.round())*100"
   ]
  },
  {
   "cell_type": "markdown",
   "id": "thick-arizona",
   "metadata": {},
   "source": [
    "# model2"
   ]
  },
  {
   "cell_type": "code",
   "execution_count": 48,
   "id": "express-burlington",
   "metadata": {},
   "outputs": [],
   "source": [
    "model2=Sequential()\n",
    "model2.add(layers.Dense(256,activation='LeakyReLU',input_shape=(31,)))\n",
    "model2.add(layers.Dropout(0.5))\n",
    "model2.add(layers.Dense(128,activation='LeakyReLU'))\n",
    "model2.add(layers.Dropout(0.5))\n",
    "model2.add(layers.Dense(64,activation='LeakyReLU'))\n",
    "model2.add(layers.Dropout(0.5))\n",
    "model2.add(layers.Dense(1))"
   ]
  },
  {
   "cell_type": "code",
   "execution_count": 49,
   "id": "initial-bridal",
   "metadata": {},
   "outputs": [
    {
     "name": "stdout",
     "output_type": "stream",
     "text": [
      "Epoch 1/10\n",
      "214/214 [==============================] - 2s 8ms/step - loss: 2.8409 - accuracy: 0.8137 - val_loss: 0.0260 - val_accuracy: 0.9983\n",
      "Epoch 2/10\n",
      "214/214 [==============================] - 2s 7ms/step - loss: 0.1098 - accuracy: 0.9928 - val_loss: 0.0260 - val_accuracy: 0.9983\n",
      "Epoch 3/10\n",
      "214/214 [==============================] - 2s 7ms/step - loss: 0.0435 - accuracy: 0.9972 - val_loss: 0.0260 - val_accuracy: 0.9983\n",
      "Epoch 4/10\n",
      "214/214 [==============================] - 2s 8ms/step - loss: 0.0321 - accuracy: 0.9979 - val_loss: 0.0260 - val_accuracy: 0.9983\n",
      "Epoch 5/10\n",
      "214/214 [==============================] - 2s 9ms/step - loss: 0.0311 - accuracy: 0.9980 - val_loss: 0.0260 - val_accuracy: 0.9983\n",
      "Epoch 6/10\n",
      "214/214 [==============================] - 2s 7ms/step - loss: 0.0328 - accuracy: 0.9979 - val_loss: 0.0260 - val_accuracy: 0.9983\n",
      "Epoch 7/10\n",
      "214/214 [==============================] - 2s 8ms/step - loss: 0.0315 - accuracy: 0.9980 - val_loss: 0.0260 - val_accuracy: 0.9983\n",
      "Epoch 8/10\n",
      "214/214 [==============================] - 2s 7ms/step - loss: 0.0338 - accuracy: 0.9978 - val_loss: 0.0260 - val_accuracy: 0.9983\n",
      "Epoch 9/10\n",
      "214/214 [==============================] - 2s 8ms/step - loss: 0.0311 - accuracy: 0.9980 - val_loss: 0.0260 - val_accuracy: 0.9983\n",
      "Epoch 10/10\n",
      "214/214 [==============================] - 2s 8ms/step - loss: 0.0305 - accuracy: 0.9980 - val_loss: 0.0260 - val_accuracy: 0.9983\n"
     ]
    },
    {
     "data": {
      "text/plain": [
       "<keras.callbacks.History at 0x203684702e0>"
      ]
     },
     "execution_count": 49,
     "metadata": {},
     "output_type": "execute_result"
    }
   ],
   "source": [
    "model2.compile(loss='binary_crossentropy', optimizer='adam', metrics=['accuracy'])\n",
    "model2.fit(X_train,y_train,epochs=10,batch_size=1000,verbose=1,validation_data=(X_test,y_test))"
   ]
  },
  {
   "cell_type": "code",
   "execution_count": 50,
   "id": "expected-simple",
   "metadata": {},
   "outputs": [
    {
     "name": "stdout",
     "output_type": "stream",
     "text": [
      "6676/6676 [==============================] - 4s 547us/step - loss: 0.0269 - accuracy: 0.9983\n",
      "[0.02686302363872528, 0.9982584714889526]\n",
      "2226/2226 [==============================] - 1s 525us/step - loss: 0.0260 - accuracy: 0.9983\n",
      "[0.02599634975194931, 0.9983146786689758]\n"
     ]
    }
   ],
   "source": [
    "print(model2.evaluate(X_train,y_train))\n",
    "print(model2.evaluate(X_test,y_test))"
   ]
  },
  {
   "cell_type": "code",
   "execution_count": 51,
   "id": "partial-mobile",
   "metadata": {},
   "outputs": [
    {
     "data": {
      "text/plain": [
       "0.0"
      ]
     },
     "execution_count": 51,
     "metadata": {},
     "output_type": "execute_result"
    }
   ],
   "source": [
    "y_pred=model2.predict(X_test)\n",
    "from sklearn import metrics\n",
    "metrics.accuracy_score(y_test, y_pred.round())*100"
   ]
  },
  {
   "cell_type": "markdown",
   "id": "published-ethnic",
   "metadata": {},
   "source": [
    "# model3"
   ]
  },
  {
   "cell_type": "code",
   "execution_count": 54,
   "id": "sixth-labor",
   "metadata": {},
   "outputs": [],
   "source": [
    "model3=Sequential()\n",
    "model3.add(layers.Dense(256,activation='elu',input_shape=(31,)))\n",
    "model3.add(layers.Dropout(0.5))\n",
    "model3.add(layers.Dense(155,activation='elu'))\n",
    "model3.add(layers.Dropout(0.5))\n",
    "model3.add(layers.Dense(128,activation='elu'))\n",
    "model3.add(layers.Dropout(0.5))\n",
    "model3.add(layers.Dense(100,activation='elu'))\n",
    "model3.add(layers.Dropout(0.5))\n",
    "model3.add(layers.Dense(64,activation='elu'))\n",
    "model3.add(layers.Dropout(0.5))\n",
    "model3.add(layers.Dense(1,activation='sigmoid'))"
   ]
  },
  {
   "cell_type": "code",
   "execution_count": 55,
   "id": "extra-maple",
   "metadata": {},
   "outputs": [
    {
     "name": "stdout",
     "output_type": "stream",
     "text": [
      "Epoch 1/10\n",
      "214/214 [==============================] - 3s 14ms/step - loss: 314.8813 - accuracy: 0.9472 - val_loss: 22.5354 - val_accuracy: 0.9983\n",
      "Epoch 2/10\n",
      "214/214 [==============================] - 2s 12ms/step - loss: 73.8865 - accuracy: 0.9877 - val_loss: 21.5068 - val_accuracy: 0.9983\n",
      "Epoch 3/10\n",
      "214/214 [==============================] - 2s 11ms/step - loss: 59.8693 - accuracy: 0.9910 - val_loss: 19.4926 - val_accuracy: 0.9983\n",
      "Epoch 4/10\n",
      "214/214 [==============================] - 3s 12ms/step - loss: 55.9735 - accuracy: 0.9920 - val_loss: 17.1436 - val_accuracy: 0.9983\n",
      "Epoch 5/10\n",
      "214/214 [==============================] - 2s 12ms/step - loss: 49.8266 - accuracy: 0.9925 - val_loss: 14.9963 - val_accuracy: 0.9983\n",
      "Epoch 6/10\n",
      "214/214 [==============================] - 3s 12ms/step - loss: 43.4185 - accuracy: 0.9929 - val_loss: 13.4457 - val_accuracy: 0.9983\n",
      "Epoch 7/10\n",
      "214/214 [==============================] - 3s 13ms/step - loss: 42.0215 - accuracy: 0.9933 - val_loss: 12.1284 - val_accuracy: 0.9983\n",
      "Epoch 8/10\n",
      "214/214 [==============================] - 3s 12ms/step - loss: 41.0242 - accuracy: 0.9935 - val_loss: 10.3328 - val_accuracy: 0.9983\n",
      "Epoch 9/10\n",
      "214/214 [==============================] - 3s 12ms/step - loss: 37.8857 - accuracy: 0.9933 - val_loss: 9.0886 - val_accuracy: 0.9983\n",
      "Epoch 10/10\n",
      "214/214 [==============================] - 3s 13ms/step - loss: 35.6779 - accuracy: 0.9935 - val_loss: 8.1138 - val_accuracy: 0.9983\n"
     ]
    },
    {
     "data": {
      "text/plain": [
       "<keras.callbacks.History at 0x203686bf940>"
      ]
     },
     "execution_count": 55,
     "metadata": {},
     "output_type": "execute_result"
    }
   ],
   "source": [
    "model3.compile(loss='binary_crossentropy', optimizer='adagrad', metrics=['accuracy'])\n",
    "model3.fit(X_train,y_train,epochs=10,batch_size=1000,verbose=1,validation_data=(X_test,y_test))"
   ]
  },
  {
   "cell_type": "code",
   "execution_count": 56,
   "id": "naked-latvia",
   "metadata": {},
   "outputs": [
    {
     "name": "stdout",
     "output_type": "stream",
     "text": [
      "6676/6676 [==============================] - 6s 845us/step - loss: 8.1631 - accuracy: 0.9983\n",
      "[8.163145065307617, 0.9982584714889526]\n",
      "2226/2226 [==============================] - 2s 1ms/step - loss: 8.1138 - accuracy: 0.9983\n",
      "[8.11379337310791, 0.9983146786689758]\n"
     ]
    }
   ],
   "source": [
    "print(model3.evaluate(X_train,y_train))\n",
    "print(model3.evaluate(X_test,y_test))"
   ]
  },
  {
   "cell_type": "code",
   "execution_count": 57,
   "id": "cardiovascular-demand",
   "metadata": {},
   "outputs": [
    {
     "data": {
      "text/plain": [
       "99.83146540827505"
      ]
     },
     "execution_count": 57,
     "metadata": {},
     "output_type": "execute_result"
    }
   ],
   "source": [
    "y_pred=model3.predict(X_test)\n",
    "from sklearn import metrics\n",
    "metrics.accuracy_score(y_test, y_pred.round())*100"
   ]
  },
  {
   "cell_type": "markdown",
   "id": "copyrighted-religion",
   "metadata": {},
   "source": [
    "# model4"
   ]
  },
  {
   "cell_type": "code",
   "execution_count": 58,
   "id": "incredible-dollar",
   "metadata": {},
   "outputs": [],
   "source": [
    "model4=Sequential()\n",
    "model4.add(layers.Dense(256,activation='softplus',input_shape=(31,)))\n",
    "model4.add(layers.Dropout(0.5))\n",
    "model4.add(layers.Dense(155,activation='softplus'))\n",
    "model4.add(layers.Dropout(0.5))\n",
    "model4.add(layers.Dense(128,activation='softplus'))\n",
    "model4.add(layers.Dropout(0.5))\n",
    "model4.add(layers.Dense(100,activation='softplus'))\n",
    "model4.add(layers.Dropout(0.5))\n",
    "model4.add(layers.Dense(64,activation='softplus'))\n",
    "model4.add(layers.Dropout(0.5))\n",
    "model4.add(layers.Dense(32,activation='softplus'))\n",
    "model4.add(layers.Dropout(0.5))\n",
    "model4.add(layers.Dense(16,activation='softplus'))\n",
    "model4.add(layers.Dropout(0.5))\n",
    "model4.add(layers.Dense(1,activation='sigmoid'))"
   ]
  },
  {
   "cell_type": "code",
   "execution_count": 59,
   "id": "statewide-court",
   "metadata": {},
   "outputs": [
    {
     "name": "stdout",
     "output_type": "stream",
     "text": [
      "Epoch 1/10\n",
      "214/214 [==============================] - 5s 19ms/step - loss: 643.4042 - accuracy: 0.7691 - val_loss: 0.5105 - val_accuracy: 0.9983\n",
      "Epoch 2/10\n",
      "214/214 [==============================] - 3s 16ms/step - loss: 183.3667 - accuracy: 0.8611 - val_loss: 0.5173 - val_accuracy: 0.9983\n",
      "Epoch 3/10\n",
      "214/214 [==============================] - 3s 16ms/step - loss: 119.0058 - accuracy: 0.8873 - val_loss: 0.4797 - val_accuracy: 0.9983\n",
      "Epoch 4/10\n",
      "214/214 [==============================] - 3s 15ms/step - loss: 88.3781 - accuracy: 0.9034 - val_loss: 0.4768 - val_accuracy: 0.9983\n",
      "Epoch 5/10\n",
      "214/214 [==============================] - 3s 16ms/step - loss: 72.5152 - accuracy: 0.9126 - val_loss: 0.4112 - val_accuracy: 0.9983\n",
      "Epoch 6/10\n",
      "214/214 [==============================] - 3s 16ms/step - loss: 58.2770 - accuracy: 0.9217 - val_loss: 0.3547 - val_accuracy: 0.9983\n",
      "Epoch 7/10\n",
      "214/214 [==============================] - 3s 15ms/step - loss: 52.2166 - accuracy: 0.9269 - val_loss: 0.3142 - val_accuracy: 0.9983\n",
      "Epoch 8/10\n",
      "214/214 [==============================] - 3s 16ms/step - loss: 46.2883 - accuracy: 0.9307 - val_loss: 0.2928 - val_accuracy: 0.9983\n",
      "Epoch 9/10\n",
      "214/214 [==============================] - 3s 16ms/step - loss: 42.0455 - accuracy: 0.9343 - val_loss: 0.2758 - val_accuracy: 0.9983\n",
      "Epoch 10/10\n",
      "214/214 [==============================] - 4s 17ms/step - loss: 37.5907 - accuracy: 0.9375 - val_loss: 0.2660 - val_accuracy: 0.9983\n"
     ]
    },
    {
     "data": {
      "text/plain": [
       "<keras.callbacks.History at 0x2034191f940>"
      ]
     },
     "execution_count": 59,
     "metadata": {},
     "output_type": "execute_result"
    }
   ],
   "source": [
    "model4.compile(loss='binary_crossentropy', optimizer='adagrad', metrics=['accuracy'])\n",
    "model4.fit(X_train,y_train,epochs=10,batch_size=1000,verbose=1,validation_data=(X_test,y_test))"
   ]
  },
  {
   "cell_type": "code",
   "execution_count": 60,
   "id": "respected-brunei",
   "metadata": {},
   "outputs": [
    {
     "name": "stdout",
     "output_type": "stream",
     "text": [
      "6676/6676 [==============================] - 7s 1ms/step - loss: 0.2675 - accuracy: 0.9983\n",
      "[0.267454594373703, 0.9982584714889526]\n",
      "2226/2226 [==============================] - 2s 1ms/step - loss: 0.2660 - accuracy: 0.9983\n",
      "[0.265987753868103, 0.9983146786689758]\n"
     ]
    }
   ],
   "source": [
    "print(model4.evaluate(X_train,y_train))\n",
    "print(model4.evaluate(X_test,y_test))"
   ]
  },
  {
   "cell_type": "code",
   "execution_count": 61,
   "id": "african-monster",
   "metadata": {},
   "outputs": [
    {
     "data": {
      "text/plain": [
       "99.83146540827505"
      ]
     },
     "execution_count": 61,
     "metadata": {},
     "output_type": "execute_result"
    }
   ],
   "source": [
    "y_pred=model4.predict(X_test)\n",
    "from sklearn import metrics\n",
    "metrics.accuracy_score(y_test, y_pred.round())*100"
   ]
  },
  {
   "cell_type": "markdown",
   "id": "immune-regular",
   "metadata": {},
   "source": [
    "# model5"
   ]
  },
  {
   "cell_type": "code",
   "execution_count": 62,
   "id": "other-association",
   "metadata": {},
   "outputs": [],
   "source": [
    "model5=Sequential()\n",
    "model5.add(layers.Dense(256,activation='tanh',input_shape=(31,)))\n",
    "model5.add(layers.Dropout(0.5))\n",
    "model5.add(layers.Dense(155,activation='tanh'))\n",
    "model5.add(layers.Dropout(0.5))\n",
    "model5.add(layers.Dense(128,activation='tanh'))\n",
    "model5.add(layers.Dropout(0.5))\n",
    "model5.add(layers.Dense(100,activation='tanh'))\n",
    "model5.add(layers.Dropout(0.5))\n",
    "model5.add(layers.Dense(64,activation='tanh'))\n",
    "model5.add(layers.Dropout(0.5))\n",
    "model5.add(layers.Dense(32,activation='tanh'))\n",
    "model5.add(layers.Dropout(0.5))\n",
    "model5.add(layers.Dense(16,activation='tanh'))\n",
    "model5.add(layers.Dropout(0.5))\n",
    "model5.add(layers.Dense(10,activation='tanh'))\n",
    "model5.add(layers.Dropout(0.5))\n",
    "model5.add(layers.Dense(5,activation='tanh'))\n",
    "model5.add(layers.Dropout(0.5))\n",
    "model5.add(layers.Dense(1,activation='sigmoid'))"
   ]
  },
  {
   "cell_type": "code",
   "execution_count": 63,
   "id": "imported-husband",
   "metadata": {},
   "outputs": [
    {
     "name": "stdout",
     "output_type": "stream",
     "text": [
      "Epoch 1/10\n",
      "214/214 [==============================] - 4s 16ms/step - loss: 0.8331 - accuracy: 0.5149 - val_loss: 0.6310 - val_accuracy: 0.9979\n",
      "Epoch 2/10\n",
      "214/214 [==============================] - 4s 17ms/step - loss: 0.8249 - accuracy: 0.5201 - val_loss: 0.5428 - val_accuracy: 0.9981\n",
      "Epoch 3/10\n",
      "214/214 [==============================] - 3s 14ms/step - loss: 0.8174 - accuracy: 0.5241 - val_loss: 0.4710 - val_accuracy: 0.9982\n",
      "Epoch 4/10\n",
      "214/214 [==============================] - 3s 15ms/step - loss: 0.8061 - accuracy: 0.5313 - val_loss: 0.4150 - val_accuracy: 0.9982\n",
      "Epoch 5/10\n",
      "214/214 [==============================] - 3s 13ms/step - loss: 0.8016 - accuracy: 0.5351 - val_loss: 0.3730 - val_accuracy: 0.9982\n",
      "Epoch 6/10\n",
      "214/214 [==============================] - 3s 13ms/step - loss: 0.7937 - accuracy: 0.5407 - val_loss: 0.3410 - val_accuracy: 0.9983\n",
      "Epoch 7/10\n",
      "214/214 [==============================] - 3s 13ms/step - loss: 0.7872 - accuracy: 0.5439 - val_loss: 0.3177 - val_accuracy: 0.9983\n",
      "Epoch 8/10\n",
      "214/214 [==============================] - 3s 13ms/step - loss: 0.7791 - accuracy: 0.5510 - val_loss: 0.3002 - val_accuracy: 0.9983\n",
      "Epoch 9/10\n",
      "214/214 [==============================] - 3s 15ms/step - loss: 0.7707 - accuracy: 0.5571 - val_loss: 0.2869 - val_accuracy: 0.9983\n",
      "Epoch 10/10\n",
      "214/214 [==============================] - 3s 13ms/step - loss: 0.7639 - accuracy: 0.5624 - val_loss: 0.2775 - val_accuracy: 0.9983\n"
     ]
    },
    {
     "data": {
      "text/plain": [
       "<keras.callbacks.History at 0x20341b88640>"
      ]
     },
     "execution_count": 63,
     "metadata": {},
     "output_type": "execute_result"
    }
   ],
   "source": [
    "model5.compile(loss='binary_crossentropy', optimizer='adadelta', metrics=['accuracy'])\n",
    "model5.fit(X_train,y_train,epochs=10,batch_size=1000,verbose=1,validation_data=(X_test,y_test))"
   ]
  },
  {
   "cell_type": "code",
   "execution_count": 64,
   "id": "ranging-possession",
   "metadata": {},
   "outputs": [
    {
     "name": "stdout",
     "output_type": "stream",
     "text": [
      "6676/6676 [==============================] - 4s 645us/step - loss: 0.2776 - accuracy: 0.9982\n",
      "[0.2775927186012268, 0.9982069730758667]\n",
      "2226/2226 [==============================] - 2s 683us/step - loss: 0.2775 - accuracy: 0.9983\n",
      "[0.2775338590145111, 0.9982584714889526]\n"
     ]
    }
   ],
   "source": [
    "print(model5.evaluate(X_train,y_train))\n",
    "print(model5.evaluate(X_test,y_test))"
   ]
  },
  {
   "cell_type": "code",
   "execution_count": 65,
   "id": "external-perth",
   "metadata": {},
   "outputs": [
    {
     "data": {
      "text/plain": [
       "99.82584758855089"
      ]
     },
     "execution_count": 65,
     "metadata": {},
     "output_type": "execute_result"
    }
   ],
   "source": [
    "y_pred=model5.predict(X_test)\n",
    "from sklearn import metrics\n",
    "metrics.accuracy_score(y_test, y_pred.round())*100"
   ]
  },
  {
   "cell_type": "markdown",
   "id": "heated-antenna",
   "metadata": {},
   "source": [
    "# observation: model3 performs better as the training loss and validation loss is reducing gradually when compared to other models."
   ]
  },
  {
   "cell_type": "code",
   "execution_count": null,
   "id": "linear-astrology",
   "metadata": {},
   "outputs": [],
   "source": []
  }
 ],
 "metadata": {
  "kernelspec": {
   "display_name": "Python 3",
   "language": "python",
   "name": "python3"
  },
  "language_info": {
   "codemirror_mode": {
    "name": "ipython",
    "version": 3
   },
   "file_extension": ".py",
   "mimetype": "text/x-python",
   "name": "python",
   "nbconvert_exporter": "python",
   "pygments_lexer": "ipython3",
   "version": "3.8.8"
  }
 },
 "nbformat": 4,
 "nbformat_minor": 5
}
