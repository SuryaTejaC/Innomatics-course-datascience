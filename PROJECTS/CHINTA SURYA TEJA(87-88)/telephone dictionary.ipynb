{
 "cells": [
  {
   "cell_type": "code",
   "execution_count": 3,
   "id": "infinite-bracket",
   "metadata": {},
   "outputs": [],
   "source": [
    "contact={'surya':9848039953,'teja':9391933024,'chinta':9848039956}\n",
    "def printmenu():\n",
    "    while True:\n",
    "        print('**********telephone dictionary**********')\n",
    "        print('1:display contacts:')\n",
    "        print('2:add phone number:')\n",
    "        print('3:search contact:')\n",
    "        print('4:quit:')\n",
    "        menuchoice=int(input('choose between 1 to 4 options:'))\n",
    "        if menuchoice==1:\n",
    "            print('contacts are:')\n",
    "            for x in contact.items():\n",
    "                print(x)\n",
    "        elif menuchoice==2:\n",
    "            name=str(input('enter name:'))\n",
    "            phone=int(input('enter phone number:'))\n",
    "            contact[name]=phone\n",
    "            print(contact)\n",
    "        elif menuchoice==3:\n",
    "            name=str(input('enter name you want to search:'))\n",
    "            if  name in contact:\n",
    "                print('contact is:',contact[name])\n",
    "            else:\n",
    "                print('contact not found,Do you want to add this contact?type y/n:')\n",
    "                text=str(input('enter y or n:'))\n",
    "                if text.lower()=='y':\n",
    "                    phone=int(input('enter phone number:'))\n",
    "                    contact[name]=phone\n",
    "                    print(contact)\n",
    "                elif text.lower()=='n':\n",
    "                    print('contact not added:')\n",
    "        elif menuchoice==4:\n",
    "            break"
   ]
  },
  {
   "cell_type": "code",
   "execution_count": 4,
   "id": "minute-stanford",
   "metadata": {},
   "outputs": [
    {
     "name": "stdout",
     "output_type": "stream",
     "text": [
      "**********telephone dictionary**********\n",
      "1:display contacts:\n",
      "2:add phone number:\n",
      "3:search contact:\n",
      "4:quit:\n",
      "choose between 1 to 4 options:3\n",
      "enter name you want to search:rtrtrtrt\n",
      "contact not found,Do you want to add this contact?type y/n:\n",
      "enter y or n:Y\n",
      "enter phone number:67689054354\n",
      "{'surya': 9848039953, 'teja': 9391933024, 'chinta': 9848039956, 'rtrtrtrt': 67689054354}\n",
      "**********telephone dictionary**********\n",
      "1:display contacts:\n",
      "2:add phone number:\n",
      "3:search contact:\n",
      "4:quit:\n",
      "choose between 1 to 4 options:4\n"
     ]
    }
   ],
   "source": [
    "printmenu()"
   ]
  },
  {
   "cell_type": "code",
   "execution_count": null,
   "id": "several-prediction",
   "metadata": {},
   "outputs": [],
   "source": []
  }
 ],
 "metadata": {
  "kernelspec": {
   "display_name": "Python 3",
   "language": "python",
   "name": "python3"
  },
  "language_info": {
   "codemirror_mode": {
    "name": "ipython",
    "version": 3
   },
   "file_extension": ".py",
   "mimetype": "text/x-python",
   "name": "python",
   "nbconvert_exporter": "python",
   "pygments_lexer": "ipython3",
   "version": "3.8.8"
  }
 },
 "nbformat": 4,
 "nbformat_minor": 5
}
